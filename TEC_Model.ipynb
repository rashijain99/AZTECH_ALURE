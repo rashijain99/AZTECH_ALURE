{
  "nbformat": 4,
  "nbformat_minor": 0,
  "metadata": {
    "colab": {
      "private_outputs": true,
      "provenance": []
    },
    "kernelspec": {
      "name": "python3",
      "display_name": "Python 3"
    },
    "language_info": {
      "name": "python"
    },
    "gpuClass": "standard",
    "accelerator": "TPU"
  },
  "cells": [
    {
      "cell_type": "code",
      "execution_count": null,
      "metadata": {
        "id": "VAcD9GRLHfhz"
      },
      "outputs": [],
      "source": [
        "import numpy as np \n",
        "from tensorflow import keras\n",
        "import tensorflow as tf\n",
        "from tensorflow.keras.models import Sequential\n",
        "from tensorflow.keras import layers\n",
        "from tensorflow.keras.layers import LSTM\n",
        "from tensorflow.keras.layers import Dense, Dropout\n",
        "import pandas as pd\n",
        "from matplotlib import pyplot as plt\n",
        "from sklearn.preprocessing import StandardScaler\n",
        "from sklearn.preprocessing import MinMaxScaler\n",
        "import seaborn as sns\n",
        "from datetime import datetime\n",
        "import os"
      ]
    },
    {
      "cell_type": "code",
      "source": [
        "# # Load the TensorBoard notebook extension\n",
        "# %load_ext tensorboard"
      ],
      "metadata": {
        "id": "NMtQ4WoEH29g"
      },
      "execution_count": null,
      "outputs": []
    },
    {
      "cell_type": "code",
      "source": [
        "# drive mount\n",
        "from google.colab import drive\n",
        "drive.mount('/content/drive')"
      ],
      "metadata": {
        "id": "12yTE1_VJhho"
      },
      "execution_count": null,
      "outputs": []
    },
    {
      "cell_type": "code",
      "source": [
        "%pwd"
      ],
      "metadata": {
        "id": "xV3FeGj6K7s2"
      },
      "execution_count": null,
      "outputs": []
    },
    {
      "cell_type": "code",
      "source": [
        "# enter your path for the  otherwise it wont work.\n",
        "\n",
        "folder_path = '/content/drive/MyDrive/SIH_2022/'    #path to your model folder\n"
      ],
      "metadata": {
        "id": "uAZRXsDFI16C"
      },
      "execution_count": null,
      "outputs": []
    },
    {
      "cell_type": "code",
      "source": [
        "# accessing file 2019Combined.csv\n",
        "df = pd.read_csv(folder_path+'2019Combined.csv')\n",
        "df.head()"
      ],
      "metadata": {
        "id": "8c4nId71cP4G"
      },
      "execution_count": null,
      "outputs": []
    },
    {
      "cell_type": "code",
      "source": [
        "# changing the working directory from colab to model folder\n",
        "\n",
        "%cd $folder_path"
      ],
      "metadata": {
        "id": "DcMKUNM7ZlTo"
      },
      "execution_count": null,
      "outputs": []
    },
    {
      "cell_type": "code",
      "source": [
        "%pwd"
      ],
      "metadata": {
        "id": "k_4LOQjRaPAT"
      },
      "execution_count": null,
      "outputs": []
    },
    {
      "cell_type": "code",
      "source": [
        "df['Date'] = pd.to_datetime(df['Date'])"
      ],
      "metadata": {
        "id": "1w3L8NFBanRG"
      },
      "execution_count": null,
      "outputs": []
    },
    {
      "cell_type": "code",
      "source": [
        "df.info()"
      ],
      "metadata": {
        "id": "s42qSdT4a9rm"
      },
      "execution_count": null,
      "outputs": []
    },
    {
      "cell_type": "code",
      "source": [
        "df.plot(x='Date', figsize=(16,4))"
      ],
      "metadata": {
        "id": "0bLyKMwEJYjo"
      },
      "execution_count": null,
      "outputs": []
    },
    {
      "cell_type": "code",
      "source": [
        "df.plot(y=['R (Sunspot No.)  ','Kp index  '], x='Date', xlim = ['1 Jan 2019 00:00:00', '7 Jan 2019 08:00:00'], figsize=(16,4))"
      ],
      "metadata": {
        "id": "h2QBxNJLJxbY"
      },
      "execution_count": null,
      "outputs": []
    },
    {
      "cell_type": "code",
      "source": [
        "df.plot(y='R (Sunspot No.)  ',x='Date', xlim = ['1 Jan 2019 00:00:00', '7 Jan 2019 08:00:00'], figsize=(16,4))"
      ],
      "metadata": {
        "id": "wGTsOxFEcFBG"
      },
      "execution_count": null,
      "outputs": []
    },
    {
      "cell_type": "code",
      "source": [
        "#sunspot no, kp index vs tec graph\n",
        "\n",
        "df.plot(x='Date', y='TEC', kind='scatter', figsize=(16,4))"
      ],
      "metadata": {
        "id": "P_6M0UHAVmaa"
      },
      "execution_count": null,
      "outputs": []
    },
    {
      "cell_type": "code",
      "source": [
        "# converting col Date into index and dropping from df\n",
        "\n",
        "df.set_index('Date', drop=True, inplace=True)"
      ],
      "metadata": {
        "id": "dLGsR7_0a_mS"
      },
      "execution_count": null,
      "outputs": []
    },
    {
      "cell_type": "code",
      "source": [
        "df.head()"
      ],
      "metadata": {
        "id": "pIjirHZrc_3D"
      },
      "execution_count": null,
      "outputs": []
    },
    {
      "cell_type": "markdown",
      "source": [
        "## **datetime resampling**"
      ],
      "metadata": {
        "id": "VtsxvnCYet8X"
      }
    },
    {
      "cell_type": "code",
      "source": [
        "##monthly\n",
        "\n",
        "df.resample(rule='M').max()['TEC'].plot(kind='bar', figsize=(16,4))"
      ],
      "metadata": {
        "id": "rLacL8WMdBCk"
      },
      "execution_count": null,
      "outputs": []
    },
    {
      "cell_type": "code",
      "source": [
        "## daily\n",
        "\n",
        "df.resample(rule='D').mean()['TEC'].plot(figsize=(16,4))"
      ],
      "metadata": {
        "id": "2W2jsjaGe5GS"
      },
      "execution_count": null,
      "outputs": []
    },
    {
      "cell_type": "code",
      "source": [
        "## daily data from 1 jan to 31 march\n",
        "\n",
        "df.resample(rule='D').max()['TEC'].plot(xlim=['1 Jan 2019', '31 March 2019'], figsize=(16,4))"
      ],
      "metadata": {
        "id": "PGrBgvcEg_7T"
      },
      "execution_count": null,
      "outputs": []
    },
    {
      "cell_type": "code",
      "source": [
        "df.drop(columns=['YEAR','DAY','HOUR'], inplace=True)"
      ],
      "metadata": {
        "id": "hYhGoSAGlDhs"
      },
      "execution_count": null,
      "outputs": []
    },
    {
      "cell_type": "code",
      "source": [
        "### dropping ae index for 2019 bcz it is having nan value (9999)\n",
        "df.drop(columns=['AE-index, nT'], inplace=True)"
      ],
      "metadata": {
        "id": "WRd-KX67lqxy"
      },
      "execution_count": null,
      "outputs": []
    },
    {
      "cell_type": "code",
      "source": [
        "### removing lat lon also bcz we fixed it: (12.5, 75)\n",
        "df.drop(columns=['lat', 'lon'], inplace=True)"
      ],
      "metadata": {
        "id": "Y4FA8iugmPLu"
      },
      "execution_count": null,
      "outputs": []
    },
    {
      "cell_type": "code",
      "source": [
        "df.head()"
      ],
      "metadata": {
        "id": "0UgSP5DzoLob"
      },
      "execution_count": null,
      "outputs": []
    },
    {
      "cell_type": "code",
      "source": [
        "df.shape"
      ],
      "metadata": {
        "id": "cWRrBgspoifO"
      },
      "execution_count": null,
      "outputs": []
    },
    {
      "cell_type": "code",
      "source": [
        "### seperating train and test data\n",
        "\n",
        "train_size = int(len(df)*.9)\n",
        "train_size"
      ],
      "metadata": {
        "id": "TKxNjv4xol43"
      },
      "execution_count": null,
      "outputs": []
    },
    {
      "cell_type": "code",
      "source": [
        "train_df, test_df = df[:train_size], df[train_size + 1 : ]\n",
        "train_df.shape, test_df.shape"
      ],
      "metadata": {
        "id": "5pqSx2tauFss"
      },
      "execution_count": null,
      "outputs": []
    },
    {
      "cell_type": "code",
      "source": [
        "train_df.head()"
      ],
      "metadata": {
        "id": "HyACYxyduaTR"
      },
      "execution_count": null,
      "outputs": []
    },
    {
      "cell_type": "code",
      "source": [
        "test_df.head()"
      ],
      "metadata": {
        "id": "P3Oix8BmuoiH"
      },
      "execution_count": null,
      "outputs": []
    },
    {
      "cell_type": "code",
      "source": [
        "## scaling the train and test data\n",
        "\n",
        "# # standard scaler object\n",
        "# # mean = 0, variance = 1\n",
        "# scaler = StandardScaler()\n",
        "# train_scaler = scaler.fit_transform(train_df)\n",
        "\n",
        "\n",
        "#minmax scaler\n",
        "scaler = MinMaxScaler()\n",
        "train_scaler = scaler.fit_transform(train_df)"
      ],
      "metadata": {
        "id": "IOUs1Xd1usK3"
      },
      "execution_count": null,
      "outputs": []
    },
    {
      "cell_type": "code",
      "source": [
        "train_scaler[0]"
      ],
      "metadata": {
        "id": "aGcsilGHxgtQ"
      },
      "execution_count": null,
      "outputs": []
    },
    {
      "cell_type": "code",
      "source": [
        "## applying transformations to the train data\n",
        "train_df = pd.DataFrame(\n",
        "    train_scaler,\n",
        "    index = train_df.index,\n",
        "    columns = train_df.columns\n",
        ")"
      ],
      "metadata": {
        "id": "JOZbpz9tw8F9"
      },
      "execution_count": null,
      "outputs": []
    },
    {
      "cell_type": "code",
      "source": [
        "train_df.head() "
      ],
      "metadata": {
        "id": "FRXAX6XfveBA"
      },
      "execution_count": null,
      "outputs": []
    },
    {
      "cell_type": "code",
      "source": [
        "## applying test scaler\n",
        "\n",
        "# # standard scaler\n",
        "# test_scaler = StandardScaler()\n",
        "# test_scaler = test_scaler.fit(test_df)\n",
        "\n",
        "# minmax scaler\n",
        "test_scaler = MinMaxScaler()\n",
        "test_scaler = test_scaler.fit(test_df)"
      ],
      "metadata": {
        "id": "4H2Y0Qw3ydHt"
      },
      "execution_count": null,
      "outputs": []
    },
    {
      "cell_type": "code",
      "source": [
        "## applying transformations to the test data\n",
        "test_df = pd.DataFrame(\n",
        "    test_scaler.transform(test_df),\n",
        "    index = test_df.index,\n",
        "    columns = test_df.columns\n",
        ")"
      ],
      "metadata": {
        "id": "6uVVneJixoda"
      },
      "execution_count": null,
      "outputs": []
    },
    {
      "cell_type": "code",
      "source": [
        "test_df.head()"
      ],
      "metadata": {
        "id": "h2RxQfY_ysDG"
      },
      "execution_count": null,
      "outputs": []
    },
    {
      "cell_type": "code",
      "source": [
        "test_df.shape"
      ],
      "metadata": {
        "id": "RAynluivwdJw"
      },
      "execution_count": null,
      "outputs": []
    },
    {
      "cell_type": "code",
      "source": [
        "## creating sequences which will help in training and testing\n",
        "def createSequence(inputData: pd.DataFrame, targetColumn, sequenceLength):\n",
        "  sequences = []\n",
        "  dataSize = len(inputData)\n",
        "\n",
        "  for i in range(dataSize - sequenceLength):\n",
        "    sequence = inputData[i:i+sequenceLength]\n",
        "\n",
        "    labelPos = i+sequenceLength\n",
        "    label = inputData.iloc[labelPos][targetColumn]\n",
        "\n",
        "    sequences.append((sequence, label))\n",
        "\n",
        "  return sequences\n"
      ],
      "metadata": {
        "id": "nzkNj7PtyudP"
      },
      "execution_count": null,
      "outputs": []
    },
    {
      "cell_type": "code",
      "source": [
        "## creating train and test sequences\n",
        "\n",
        "seqLen = 12   # 1 day (12 even hrs) seq\n",
        "\n",
        "trainSeq = createSequence(train_df, 'TEC', seqLen)\n",
        "testSeq = createSequence(test_df, 'TEC', seqLen)"
      ],
      "metadata": {
        "id": "UGKRh43B2bRu"
      },
      "execution_count": null,
      "outputs": []
    },
    {
      "cell_type": "code",
      "source": [
        "len(trainSeq)"
      ],
      "metadata": {
        "id": "qPvTKgrl3J8R"
      },
      "execution_count": null,
      "outputs": []
    },
    {
      "cell_type": "code",
      "source": [
        "len(testSeq)"
      ],
      "metadata": {
        "id": "K9CtqSnG3N6U"
      },
      "execution_count": null,
      "outputs": []
    },
    {
      "cell_type": "code",
      "source": [
        "trainSeq[0][0]"
      ],
      "metadata": {
        "id": "qTk7QgJl3XcH"
      },
      "execution_count": null,
      "outputs": []
    },
    {
      "cell_type": "code",
      "source": [
        "trainSeq[0][1]"
      ],
      "metadata": {
        "id": "TIXclAh_3mqU"
      },
      "execution_count": null,
      "outputs": []
    },
    {
      "cell_type": "code",
      "source": [
        "type(trainSeq[0][0])"
      ],
      "metadata": {
        "id": "nMAvfumo446O"
      },
      "execution_count": null,
      "outputs": []
    },
    {
      "cell_type": "code",
      "source": [
        "train_seq_np = np.array(trainSeq)\n",
        "train_seq_np.shape"
      ],
      "metadata": {
        "id": "FPiU_XHD6AhA"
      },
      "execution_count": null,
      "outputs": []
    },
    {
      "cell_type": "code",
      "source": [
        "train_seq_np[1][0]"
      ],
      "metadata": {
        "id": "J72BRM2i6peA"
      },
      "execution_count": null,
      "outputs": []
    },
    {
      "cell_type": "code",
      "source": [
        "train_seq_np[1][1]"
      ],
      "metadata": {
        "id": "CF_qgOgg7IU0"
      },
      "execution_count": null,
      "outputs": []
    },
    {
      "cell_type": "code",
      "source": [
        "train_X = []\n",
        "\n",
        "for i in train_seq_np:\n",
        "  train_X.append(i[0])\n",
        "train_X = np.array(train_X)"
      ],
      "metadata": {
        "id": "6W_FJKOxBFz2"
      },
      "execution_count": null,
      "outputs": []
    },
    {
      "cell_type": "code",
      "source": [
        "train_X.shape"
      ],
      "metadata": {
        "id": "vURbRoOdBmxu"
      },
      "execution_count": null,
      "outputs": []
    },
    {
      "cell_type": "code",
      "source": [
        "train_X[0]"
      ],
      "metadata": {
        "id": "LN7R6htPBss9"
      },
      "execution_count": null,
      "outputs": []
    },
    {
      "cell_type": "code",
      "source": [
        "train_Y = []\n",
        "\n",
        "for i in train_seq_np:\n",
        "  train_Y.append(i[1])\n",
        "train_Y = np.array(train_Y)"
      ],
      "metadata": {
        "id": "AVM7ahs2B2N2"
      },
      "execution_count": null,
      "outputs": []
    },
    {
      "cell_type": "code",
      "source": [
        "train_Y.shape"
      ],
      "metadata": {
        "id": "i-AmNb40B9fv"
      },
      "execution_count": null,
      "outputs": []
    },
    {
      "cell_type": "code",
      "source": [
        "train_Y = train_Y.reshape(train_Y.shape[0], 1)\n",
        "train_Y.shape"
      ],
      "metadata": {
        "id": "kcxTtEurCdnh"
      },
      "execution_count": null,
      "outputs": []
    },
    {
      "cell_type": "code",
      "source": [
        "train_Y[0:5]"
      ],
      "metadata": {
        "id": "pSfiWUSjCAqk"
      },
      "execution_count": null,
      "outputs": []
    },
    {
      "cell_type": "markdown",
      "source": [
        "# **creating model**"
      ],
      "metadata": {
        "id": "d7XO6zhLCGtq"
      }
    },
    {
      "cell_type": "code",
      "source": [
        "#### creating a model and training \n",
        "\n",
        "model = Sequential()\n",
        "model.add(keras.Input(shape = (train_X.shape[1], train_X.shape[2])))\n",
        "\n",
        "# model.add(LSTM(5000,activation = 'tanh',return_sequences = True))\n",
        "# model.add(Dropout(0.5))\n",
        "\n",
        "# model.add(LSTM(4700,activation = 'tanh',return_sequences = True))\n",
        "# model.add(Dropout(0.5))\n",
        "\n",
        "# model.add(LSTM(4500,activation = 'tanh',return_sequences = True))\n",
        "# model.add(Dropout(0.5))\n",
        "\n",
        "# model.add(LSTM(4200,activation = 'tanh',return_sequences = True))\n",
        "# model.add(Dropout(0.5))\n",
        "\n",
        "# model.add(LSTM(4000,activation = 'tanh',return_sequences = True))\n",
        "# model.add(Dropout(0.5))\n",
        "\n",
        "# model.add(LSTM(3800,activation = 'tanh',return_sequences = True))\n",
        "# model.add(Dropout(0.5))\n",
        "\n",
        "# model.add(LSTM(5500,activation = 'tanh',return_sequences = True))\n",
        "# model.add(Dropout(0.5))\n",
        "\n",
        "model.add(LSTM(5000,activation = 'tanh',return_sequences = True))\n",
        "model.add(Dropout(0.5))\n",
        "\n",
        "model.add(LSTM(4000,activation = 'tanh',return_sequences = True))\n",
        "model.add(Dropout(0.5))\n",
        "\n",
        "model.add(LSTM(3000,activation = 'tanh',return_sequences = True))\n",
        "model.add(Dropout(0.5))\n",
        "\n",
        "# model.add(LSTM(2800,activation = 'tanh',return_sequences = True))\n",
        "# model.add(Dropout(0.5))\n",
        "\n",
        "model.add(LSTM(2500,activation = 'tanh',return_sequences = True))\n",
        "model.add(Dropout(0.5))\n",
        "\n",
        "# model.add(LSTM(2200,activation = 'tanh',return_sequences = True))\n",
        "# model.add(Dropout(0.5))\n",
        "\n",
        "model.add(LSTM(2000,activation = 'tanh',return_sequences = True))\n",
        "model.add(Dropout(0.5))\n",
        "\n",
        "# model.add(LSTM(1800,activation = 'tanh',return_sequences = True))\n",
        "# model.add(Dropout(0.5))\n",
        "\n",
        "model.add(LSTM(1500,activation = 'tanh',return_sequences = True))\n",
        "model.add(Dropout(0.5))\n",
        "\n",
        "model.add(LSTM(1200,activation = 'tanh',return_sequences = True))\n",
        "model.add(Dropout(0.2))\n",
        "\n",
        "model.add(LSTM(1000,activation = 'tanh',return_sequences = True))\n",
        "model.add(Dropout(0.2))\n",
        "\n",
        "model.add(LSTM(800,activation = 'tanh',return_sequences = True))\n",
        "model.add(Dropout(0.2))\n",
        "\n",
        "model.add(LSTM(650,activation = 'tanh',return_sequences = True))\n",
        "model.add(Dropout(0.2))\n",
        "\n",
        "model.add(LSTM(512,activation = 'tanh',return_sequences = True))\n",
        "model.add(Dropout(0.2))\n",
        "\n",
        "model.add(LSTM(500,activation = 'tanh',return_sequences = True))\n",
        "model.add(Dropout(0.2))\n",
        "\n",
        "model.add(LSTM(480,activation = 'tanh',return_sequences = True))\n",
        "model.add(Dropout(0.2))\n",
        "\n",
        "model.add(LSTM(450,activation = 'tanh',return_sequences = True))\n",
        "model.add(Dropout(0.2))\n",
        "\n",
        "model.add(LSTM(420,activation = 'tanh',return_sequences = True))\n",
        "model.add(Dropout(0.2))\n",
        "\n",
        "model.add(LSTM(400,activation = 'tanh',return_sequences = True))\n",
        "model.add(Dropout(0.2))\n",
        "\n",
        "model.add(LSTM(380,activation = 'tanh',return_sequences = True))\n",
        "model.add(Dropout(0.2))\n",
        "\n",
        "model.add(LSTM(350,activation = 'tanh',return_sequences = True))\n",
        "model.add(Dropout(0.2))\n",
        "\n",
        "model.add(LSTM(320,activation = 'tanh',return_sequences = True))\n",
        "model.add(Dropout(0.2))\n",
        "\n",
        "model.add(LSTM(300,activation = 'tanh',return_sequences = True))\n",
        "model.add(Dropout(0.2))\n",
        "\n",
        "model.add(LSTM(280,activation = 'tanh',return_sequences = True))\n",
        "model.add(Dropout(0.2))\n",
        "\n",
        "model.add(LSTM(260,activation = 'tanh',return_sequences = True))\n",
        "model.add(Dropout(0.2))\n",
        "\n",
        "model.add(LSTM(240,activation = 'tanh',return_sequences=True))\n",
        "model.add(Dropout(0.2))\n",
        "\n",
        "model.add(LSTM(220,activation = 'tanh',return_sequences = True))\n",
        "model.add(Dropout(0.2))\n",
        "\n",
        "model.add(LSTM(200,activation = 'tanh',return_sequences = True))\n",
        "model.add(Dropout(0.2))\n",
        "\n",
        "model.add(LSTM(180,activation = 'tanh',return_sequences = True))\n",
        "model.add(Dropout(0.2))\n",
        "\n",
        "model.add(LSTM(160,activation = 'tanh',return_sequences = True))\n",
        "model.add(Dropout(0.2))\n",
        "\n",
        "model.add(LSTM(140,activation = 'tanh',return_sequences = True))\n",
        "model.add(Dropout(0.2))\n",
        "\n",
        "model.add(LSTM(128,activation = 'tanh',return_sequences=True))\n",
        "model.add(Dropout(0.2))\n",
        "\n",
        "model.add(LSTM(100,activation = 'tanh',return_sequences = True))\n",
        "model.add(Dropout(0.2))\n",
        "\n",
        "model.add(LSTM(80,activation = 'tanh',return_sequences = True))\n",
        "model.add(Dropout(0.2))\n",
        "\n",
        "model.add(LSTM(64,activation = 'tanh',return_sequences=True))\n",
        "model.add(Dropout(0.2))\n",
        "\n",
        "model.add(LSTM(32,activation = 'tanh',return_sequences=True))\n",
        "model.add(Dropout(0.2))\n",
        "\n",
        "model.add(LSTM(20,activation = 'tanh',return_sequences = False))\n",
        "model.add(Dropout(0.2))\n",
        "\n",
        "model.add(Dense(20, activation='relu'))\n",
        "model.add(Dense(10, activation='relu'))\n",
        "model.add(Dense(8, activation='relu'))\n",
        "model.add(Dense(4, activation='relu'))\n",
        "\n",
        "model.add(Dense(train_Y.shape[1]))\n",
        "\n",
        "model.compile(optimizer = keras.optimizers.Adam(learning_rate = 0.001),loss = 'mse',metrics=['accuracy'])\n",
        "\n",
        "model.summary()"
      ],
      "metadata": {
        "id": "CMkwL6jR8UoA"
      },
      "execution_count": null,
      "outputs": []
    },
    {
      "cell_type": "markdown",
      "source": [
        "# **training the model**"
      ],
      "metadata": {
        "id": "iDE3N3H9AcSN"
      }
    },
    {
      "cell_type": "code",
      "source": [
        "%pwd"
      ],
      "metadata": {
        "id": "IDK-TOufZApC"
      },
      "execution_count": null,
      "outputs": []
    },
    {
      "cell_type": "code",
      "source": [
        "##creating a model checkpoint\n",
        "\n",
        "## make sure to check the model weights version before saving it\n",
        "\n",
        "checkpoint_filepath = os.path.join(folder_path, 'ModelCheckpoints/', 'best_model_weights_2019_8_val_loss.h5')\n",
        "\n",
        "model_checkpoint_callback = tf.keras.callbacks.ModelCheckpoint(\n",
        "    filepath=checkpoint_filepath,\n",
        "    save_weights_only=True,\n",
        "    monitor='val_loss',\n",
        "    # mode='max',\n",
        "    save_best_only=True)"
      ],
      "metadata": {
        "id": "0_10dUB6KqYG"
      },
      "execution_count": null,
      "outputs": []
    },
    {
      "cell_type": "code",
      "source": [
        "## early stopping\n",
        "\n",
        "earlyStopping = tf.keras.callbacks.EarlyStopping(monitor='val_loss', patience=6)"
      ],
      "metadata": {
        "id": "S_znKIi0tn9Z"
      },
      "execution_count": null,
      "outputs": []
    },
    {
      "cell_type": "code",
      "source": [
        "# log_dir = \"/content/logs/fits\" + datetime.now().strftime(\"%Y%m%d-%H%M%S\")\n",
        "# tensorboard_callback = tf.keras.callbacks.TensorBoard(log_dir=log_dir, histogram_freq=1)\n",
        "\n",
        "# fitting the model\n",
        "history = model.fit(train_X, train_Y,\n",
        "                    epochs=25,\n",
        "                    batch_size=8,\n",
        "                    validation_split=0.2,\n",
        "                    callbacks=[earlyStopping, model_checkpoint_callback],\n",
        "                    verbose=1 )\n",
        "\n",
        "# model.save_weights('epochWeights.h5')\n"
      ],
      "metadata": {
        "id": "QW7FJZev_3F0"
      },
      "execution_count": null,
      "outputs": []
    },
    {
      "cell_type": "code",
      "source": [
        "## plotting the model\n",
        "\n",
        "plt.plot(history.history['loss'], label='Training loss')\n",
        "plt.plot(history.history['val_loss'], label='Validation loss')\n",
        "plt.plot(history.history['accuracy'], label='Training accuracy')\n",
        "plt.plot(history.history['val_accuracy'], label='Validation accuracy')\n",
        "\n",
        "plt.legend()"
      ],
      "metadata": {
        "id": "lonor-2GDvaM"
      },
      "execution_count": null,
      "outputs": []
    },
    {
      "cell_type": "code",
      "source": [
        "## make sure to change the model version before saving it\n",
        "\n",
        "savedModelPath = os.path.join(folder_path, 'ModelCheckpoints/', 'tecModel2019_8.h5')\n",
        "\n",
        "model.save(savedModelPath)"
      ],
      "metadata": {
        "id": "i03-GsaVQT7j"
      },
      "execution_count": null,
      "outputs": []
    },
    {
      "cell_type": "code",
      "source": [
        "train_X[0]"
      ],
      "metadata": {
        "id": "HI1lvw81S4PB"
      },
      "execution_count": null,
      "outputs": []
    },
    {
      "cell_type": "code",
      "source": [
        "pred = model.predict(train_X[:1])"
      ],
      "metadata": {
        "id": "gYPppBf6I2WG"
      },
      "execution_count": null,
      "outputs": []
    },
    {
      "cell_type": "code",
      "source": [
        "pred"
      ],
      "metadata": {
        "id": "MwsHMALSSY1n"
      },
      "execution_count": null,
      "outputs": []
    },
    {
      "cell_type": "markdown",
      "source": [
        "# **Testing model**"
      ],
      "metadata": {
        "id": "ywgf_AndhRDQ"
      }
    },
    {
      "cell_type": "code",
      "source": [
        "testSeq[0][0]"
      ],
      "metadata": {
        "id": "-0DcupEoSp8o"
      },
      "execution_count": null,
      "outputs": []
    },
    {
      "cell_type": "code",
      "source": [
        "testSeq[0][1]"
      ],
      "metadata": {
        "id": "rrn2nZ4rqX_K"
      },
      "execution_count": null,
      "outputs": []
    },
    {
      "cell_type": "code",
      "source": [
        "type(testSeq)"
      ],
      "metadata": {
        "id": "iuqNzY2DqYYX"
      },
      "execution_count": null,
      "outputs": []
    },
    {
      "cell_type": "code",
      "source": [
        "#converting test seq into numpy array\n",
        "\n",
        "test_seq_np = np.array(testSeq)\n",
        "test_seq_np.shape"
      ],
      "metadata": {
        "id": "SsZJdcAThrU_"
      },
      "execution_count": null,
      "outputs": []
    },
    {
      "cell_type": "code",
      "source": [
        "test_seq_np[0][0]\n",
        "# print(test_seq_np[0][1])"
      ],
      "metadata": {
        "id": "keYrwRw-kVsC"
      },
      "execution_count": null,
      "outputs": []
    },
    {
      "cell_type": "code",
      "source": [
        "test_X = []\n",
        "test_Y = []\n",
        "\n",
        "for i in test_seq_np:\n",
        "  test_X.append(i[0])\n",
        "  test_Y.append(i[1])\n",
        "test_X = np.array(test_X)\n",
        "test_Y = np.array(test_Y)"
      ],
      "metadata": {
        "id": "A4iKWI2Bkj7q"
      },
      "execution_count": null,
      "outputs": []
    },
    {
      "cell_type": "code",
      "source": [
        "print(test_X.shape, test_Y.shape)"
      ],
      "metadata": {
        "id": "mmTuCX-ulHa_"
      },
      "execution_count": null,
      "outputs": []
    },
    {
      "cell_type": "code",
      "source": [
        "test_Y = test_Y.reshape(test_Y.shape[0],1)\n",
        "print(test_X.shape, test_Y.shape)"
      ],
      "metadata": {
        "id": "mEP7USKJlNFj"
      },
      "execution_count": null,
      "outputs": []
    },
    {
      "cell_type": "code",
      "source": [
        "test_Y[:5]"
      ],
      "metadata": {
        "id": "vMtyGNYZlgZx"
      },
      "execution_count": null,
      "outputs": []
    },
    {
      "cell_type": "code",
      "source": [
        "#### getting predictions for test set\n",
        "\n",
        "\n",
        "test_pred = model.predict(test_X)"
      ],
      "metadata": {
        "id": "GZ9GOWt6lu4A"
      },
      "execution_count": null,
      "outputs": []
    },
    {
      "cell_type": "code",
      "source": [
        "test_pred.shape"
      ],
      "metadata": {
        "id": "0gKBQCEimBmK"
      },
      "execution_count": null,
      "outputs": []
    },
    {
      "cell_type": "code",
      "source": [
        "test_pred[:5]"
      ],
      "metadata": {
        "id": "2o02F5AKmEaR"
      },
      "execution_count": null,
      "outputs": []
    },
    {
      "cell_type": "code",
      "source": [
        "for i in range(len(test_Y)):\n",
        "  count=0\n",
        "  if test_Y[i] == test_pred[i]:\n",
        "    count += 1\n",
        "print(count)"
      ],
      "metadata": {
        "id": "E7gyxqJYmHG8"
      },
      "execution_count": null,
      "outputs": []
    },
    {
      "cell_type": "code",
      "source": [
        "train_pred = model.predict(train_X)\n",
        "\n",
        "for i in range(len(train_Y)):\n",
        "  count=0\n",
        "  if train_Y[i] == train_pred[i]:\n",
        "    count += 1\n",
        "print(count)"
      ],
      "metadata": {
        "id": "xseJsBEumdhH"
      },
      "execution_count": null,
      "outputs": []
    },
    {
      "cell_type": "code",
      "source": [
        "# prediction_copies = np.repeat(test_pred, test_df.shape[1], axis=-1)\n",
        "# y_pred_future = test_scaler.inverse_transform(prediction_copies)[:,0]"
      ],
      "metadata": {
        "id": "UuKLKbdvmvOr"
      },
      "execution_count": null,
      "outputs": []
    },
    {
      "cell_type": "code",
      "source": [
        "y_pred_future"
      ],
      "metadata": {
        "id": "ikrzetRYu1QK"
      },
      "execution_count": null,
      "outputs": []
    },
    {
      "cell_type": "code",
      "source": [
        "test_pred"
      ],
      "metadata": {
        "id": "qUn_WlQdv1Px"
      },
      "execution_count": null,
      "outputs": []
    },
    {
      "cell_type": "code",
      "source": [],
      "metadata": {
        "id": "JGnRNqF2x2SF"
      },
      "execution_count": null,
      "outputs": []
    }
  ]
}